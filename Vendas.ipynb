{
 "cells": [
  {
   "cell_type": "markdown",
   "id": "2ded7c79-4718-49f6-8477-01b553c32822",
   "metadata": {},
   "source": [
    "# Analise de Vendas"
   ]
  },
  {
   "cell_type": "markdown",
   "id": "4de35a62-0ed9-4c45-b451-6453d6c8c735",
   "metadata": {},
   "source": [
    "## 1 - Importações de Biblitecas e Base de Dados"
   ]
  },
  {
   "cell_type": "code",
   "execution_count": 1,
   "id": "3e4ac3ce-4107-4bfe-a868-866f9be5b47f",
   "metadata": {},
   "outputs": [],
   "source": [
    "import pandas as pd\n",
    "import numpy as np\n",
    "import matplotlib.pyplot as plt\n",
    "import seaborn as sns"
   ]
  },
  {
   "cell_type": "code",
   "execution_count": 74,
   "id": "ffc6eeeb-d84f-4a8c-a211-018220cada64",
   "metadata": {},
   "outputs": [
    {
     "data": {
      "text/plain": [
       "(9998, 8)"
      ]
     },
     "execution_count": 74,
     "metadata": {},
     "output_type": "execute_result"
    }
   ],
   "source": [
    "Vendas = \"Base Vendas.xlsx\"\n",
    "Base_Vendas = pd.read_excel(Vendas)\n",
    "Base_Vendas.shape"
   ]
  },
  {
   "cell_type": "code",
   "execution_count": 3,
   "id": "b215b929-c798-49bf-b60e-aee62f50421a",
   "metadata": {},
   "outputs": [
    {
     "data": {
      "text/html": [
       "<div>\n",
       "<style scoped>\n",
       "    .dataframe tbody tr th:only-of-type {\n",
       "        vertical-align: middle;\n",
       "    }\n",
       "\n",
       "    .dataframe tbody tr th {\n",
       "        vertical-align: top;\n",
       "    }\n",
       "\n",
       "    .dataframe thead th {\n",
       "        text-align: right;\n",
       "    }\n",
       "</style>\n",
       "<table border=\"1\" class=\"dataframe\">\n",
       "  <thead>\n",
       "    <tr style=\"text-align: right;\">\n",
       "      <th></th>\n",
       "      <th>SKU</th>\n",
       "      <th>Preco</th>\n",
       "      <th>Produto</th>\n",
       "      <th>Marca</th>\n",
       "      <th>Quantidade Vendida</th>\n",
       "      <th>Data da Venda</th>\n",
       "      <th>Loja</th>\n",
       "      <th>Endereco</th>\n",
       "    </tr>\n",
       "  </thead>\n",
       "  <tbody>\n",
       "    <tr>\n",
       "      <th>0</th>\n",
       "      <td>HL1005</td>\n",
       "      <td>1500</td>\n",
       "      <td>Câmera Digital Rebel T6 - Preto</td>\n",
       "      <td>Canon</td>\n",
       "      <td>3</td>\n",
       "      <td>2018-01-01</td>\n",
       "      <td>Niterói</td>\n",
       "      <td>Rua Quinze de Novembro, 8 - Loja 301a Loja 301...</td>\n",
       "    </tr>\n",
       "    <tr>\n",
       "      <th>1</th>\n",
       "      <td>HL1006</td>\n",
       "      <td>1400</td>\n",
       "      <td>TV LED 32' - Preto</td>\n",
       "      <td>Samsung</td>\n",
       "      <td>4</td>\n",
       "      <td>2018-01-01</td>\n",
       "      <td>Porto Alegre</td>\n",
       "      <td>Av. Borges de Medeiros, 3120 - Praia de Belas,...</td>\n",
       "    </tr>\n",
       "    <tr>\n",
       "      <th>2</th>\n",
       "      <td>HL1019</td>\n",
       "      <td>6500</td>\n",
       "      <td>iPhone XS - Preto</td>\n",
       "      <td>Apple</td>\n",
       "      <td>5</td>\n",
       "      <td>2018-01-01</td>\n",
       "      <td>Salvador</td>\n",
       "      <td>Shopping Barra - Av. Centenário, 2992 - Barra,...</td>\n",
       "    </tr>\n",
       "    <tr>\n",
       "      <th>3</th>\n",
       "      <td>HL1024</td>\n",
       "      <td>2400</td>\n",
       "      <td>Aspire 5 - Cinza</td>\n",
       "      <td>Acer</td>\n",
       "      <td>2</td>\n",
       "      <td>2018-01-01</td>\n",
       "      <td>Guarulhos</td>\n",
       "      <td>R. Luíz Faccini, 212 - Centro, Guarulhos - SP,...</td>\n",
       "    </tr>\n",
       "    <tr>\n",
       "      <th>4</th>\n",
       "      <td>HL1012</td>\n",
       "      <td>5500</td>\n",
       "      <td>Dell G7 - Vermelho</td>\n",
       "      <td>Dell</td>\n",
       "      <td>1</td>\n",
       "      <td>2018-01-01</td>\n",
       "      <td>Rio de Janeiro</td>\n",
       "      <td>R. Visc. de Pirajá, 136 - Ipanema, Rio de Jane...</td>\n",
       "    </tr>\n",
       "  </tbody>\n",
       "</table>\n",
       "</div>"
      ],
      "text/plain": [
       "      SKU  Preco                          Produto    Marca  \\\n",
       "0  HL1005   1500  Câmera Digital Rebel T6 - Preto    Canon   \n",
       "1  HL1006   1400               TV LED 32' - Preto  Samsung   \n",
       "2  HL1019   6500                iPhone XS - Preto    Apple   \n",
       "3  HL1024   2400                 Aspire 5 - Cinza     Acer   \n",
       "4  HL1012   5500               Dell G7 - Vermelho     Dell   \n",
       "\n",
       "   Quantidade Vendida Data da Venda            Loja  \\\n",
       "0                   3    2018-01-01         Niterói   \n",
       "1                   4    2018-01-01    Porto Alegre   \n",
       "2                   5    2018-01-01        Salvador   \n",
       "3                   2    2018-01-01       Guarulhos   \n",
       "4                   1    2018-01-01  Rio de Janeiro   \n",
       "\n",
       "                                            Endereco  \n",
       "0  Rua Quinze de Novembro, 8 - Loja 301a Loja 301...  \n",
       "1  Av. Borges de Medeiros, 3120 - Praia de Belas,...  \n",
       "2  Shopping Barra - Av. Centenário, 2992 - Barra,...  \n",
       "3  R. Luíz Faccini, 212 - Centro, Guarulhos - SP,...  \n",
       "4  R. Visc. de Pirajá, 136 - Ipanema, Rio de Jane...  "
      ]
     },
     "execution_count": 3,
     "metadata": {},
     "output_type": "execute_result"
    }
   ],
   "source": [
    "Base_Vendas.head()"
   ]
  },
  {
   "cell_type": "markdown",
   "id": "7d3a424d-278c-414d-9d7f-f5f41e9826c7",
   "metadata": {},
   "source": [
    "## 2 - Tratamento de Dados"
   ]
  },
  {
   "cell_type": "code",
   "execution_count": 6,
   "id": "3501b7b8-a361-4f52-8531-e4ef58a05115",
   "metadata": {},
   "outputs": [
    {
     "name": "stdout",
     "output_type": "stream",
     "text": [
      "<class 'pandas.core.frame.DataFrame'>\n",
      "RangeIndex: 9998 entries, 0 to 9997\n",
      "Data columns (total 8 columns):\n",
      " #   Column              Non-Null Count  Dtype         \n",
      "---  ------              --------------  -----         \n",
      " 0   SKU                 9998 non-null   object        \n",
      " 1   Preco               9998 non-null   int64         \n",
      " 2   Produto             9998 non-null   object        \n",
      " 3   Marca               9998 non-null   object        \n",
      " 4   Quantidade Vendida  9998 non-null   int64         \n",
      " 5   Data da Venda       9998 non-null   datetime64[ns]\n",
      " 6   Loja                9998 non-null   object        \n",
      " 7   Endereco            9998 non-null   object        \n",
      "dtypes: datetime64[ns](1), int64(2), object(5)\n",
      "memory usage: 625.0+ KB\n"
     ]
    }
   ],
   "source": [
    "Base_Vendas.info()"
   ]
  },
  {
   "cell_type": "markdown",
   "id": "5387d30c-abf2-4060-87fe-a14278bc2511",
   "metadata": {},
   "source": [
    "### Convertendo Preço para float"
   ]
  },
  {
   "cell_type": "code",
   "execution_count": 13,
   "id": "65838fe0-fd01-40ea-9f68-504c28c13944",
   "metadata": {},
   "outputs": [
    {
     "data": {
      "text/plain": [
       "0    1500.0\n",
       "1    1400.0\n",
       "2    6500.0\n",
       "3    2400.0\n",
       "4    5500.0\n",
       "Name: Preco, dtype: float64"
      ]
     },
     "execution_count": 13,
     "metadata": {},
     "output_type": "execute_result"
    }
   ],
   "source": [
    "Base_Vendas['Preco'] = Base_Vendas['Preco'].astype(float)\n",
    "Base_Vendas['Preco'].head()"
   ]
  },
  {
   "cell_type": "markdown",
   "id": "2fdf36f8-5de3-4b3e-a1b7-2302410c7874",
   "metadata": {},
   "source": [
    "### Removendo coluna Endereço que não será utilizada"
   ]
  },
  {
   "cell_type": "code",
   "execution_count": 15,
   "id": "d480b019-acac-46fd-a27a-d48d4a4b2eda",
   "metadata": {},
   "outputs": [
    {
     "data": {
      "text/html": [
       "<div>\n",
       "<style scoped>\n",
       "    .dataframe tbody tr th:only-of-type {\n",
       "        vertical-align: middle;\n",
       "    }\n",
       "\n",
       "    .dataframe tbody tr th {\n",
       "        vertical-align: top;\n",
       "    }\n",
       "\n",
       "    .dataframe thead th {\n",
       "        text-align: right;\n",
       "    }\n",
       "</style>\n",
       "<table border=\"1\" class=\"dataframe\">\n",
       "  <thead>\n",
       "    <tr style=\"text-align: right;\">\n",
       "      <th></th>\n",
       "      <th>SKU</th>\n",
       "      <th>Preco</th>\n",
       "      <th>Produto</th>\n",
       "      <th>Marca</th>\n",
       "      <th>Quantidade Vendida</th>\n",
       "      <th>Data da Venda</th>\n",
       "      <th>Loja</th>\n",
       "    </tr>\n",
       "  </thead>\n",
       "  <tbody>\n",
       "    <tr>\n",
       "      <th>0</th>\n",
       "      <td>HL1005</td>\n",
       "      <td>1500.0</td>\n",
       "      <td>Câmera Digital Rebel T6 - Preto</td>\n",
       "      <td>Canon</td>\n",
       "      <td>3</td>\n",
       "      <td>2018-01-01</td>\n",
       "      <td>Niterói</td>\n",
       "    </tr>\n",
       "    <tr>\n",
       "      <th>1</th>\n",
       "      <td>HL1006</td>\n",
       "      <td>1400.0</td>\n",
       "      <td>TV LED 32' - Preto</td>\n",
       "      <td>Samsung</td>\n",
       "      <td>4</td>\n",
       "      <td>2018-01-01</td>\n",
       "      <td>Porto Alegre</td>\n",
       "    </tr>\n",
       "    <tr>\n",
       "      <th>2</th>\n",
       "      <td>HL1019</td>\n",
       "      <td>6500.0</td>\n",
       "      <td>iPhone XS - Preto</td>\n",
       "      <td>Apple</td>\n",
       "      <td>5</td>\n",
       "      <td>2018-01-01</td>\n",
       "      <td>Salvador</td>\n",
       "    </tr>\n",
       "    <tr>\n",
       "      <th>3</th>\n",
       "      <td>HL1024</td>\n",
       "      <td>2400.0</td>\n",
       "      <td>Aspire 5 - Cinza</td>\n",
       "      <td>Acer</td>\n",
       "      <td>2</td>\n",
       "      <td>2018-01-01</td>\n",
       "      <td>Guarulhos</td>\n",
       "    </tr>\n",
       "    <tr>\n",
       "      <th>4</th>\n",
       "      <td>HL1012</td>\n",
       "      <td>5500.0</td>\n",
       "      <td>Dell G7 - Vermelho</td>\n",
       "      <td>Dell</td>\n",
       "      <td>1</td>\n",
       "      <td>2018-01-01</td>\n",
       "      <td>Rio de Janeiro</td>\n",
       "    </tr>\n",
       "    <tr>\n",
       "      <th>...</th>\n",
       "      <td>...</td>\n",
       "      <td>...</td>\n",
       "      <td>...</td>\n",
       "      <td>...</td>\n",
       "      <td>...</td>\n",
       "      <td>...</td>\n",
       "      <td>...</td>\n",
       "    </tr>\n",
       "    <tr>\n",
       "      <th>9993</th>\n",
       "      <td>HL1001</td>\n",
       "      <td>2600.0</td>\n",
       "      <td>Smart TV 50' 4K - Preto</td>\n",
       "      <td>LG</td>\n",
       "      <td>2</td>\n",
       "      <td>2018-12-31</td>\n",
       "      <td>Recife</td>\n",
       "    </tr>\n",
       "    <tr>\n",
       "      <th>9994</th>\n",
       "      <td>HL1015</td>\n",
       "      <td>700.0</td>\n",
       "      <td>Câmera Digital Sony Cyber - Azul</td>\n",
       "      <td>Sony</td>\n",
       "      <td>1</td>\n",
       "      <td>2018-12-31</td>\n",
       "      <td>São Paulo</td>\n",
       "    </tr>\n",
       "    <tr>\n",
       "      <th>9995</th>\n",
       "      <td>HL1013</td>\n",
       "      <td>1550.0</td>\n",
       "      <td>Câmera Coolpix L340 - Cinza</td>\n",
       "      <td>Nikon</td>\n",
       "      <td>3</td>\n",
       "      <td>2018-12-31</td>\n",
       "      <td>Guarulhos</td>\n",
       "    </tr>\n",
       "    <tr>\n",
       "      <th>9996</th>\n",
       "      <td>HL1019</td>\n",
       "      <td>6500.0</td>\n",
       "      <td>iPhone XS - Preto</td>\n",
       "      <td>Apple</td>\n",
       "      <td>1</td>\n",
       "      <td>2018-12-31</td>\n",
       "      <td>Recife</td>\n",
       "    </tr>\n",
       "    <tr>\n",
       "      <th>9997</th>\n",
       "      <td>HL1019</td>\n",
       "      <td>6500.0</td>\n",
       "      <td>iPhone XS - Preto</td>\n",
       "      <td>Apple</td>\n",
       "      <td>1</td>\n",
       "      <td>2018-12-31</td>\n",
       "      <td>São Paulo</td>\n",
       "    </tr>\n",
       "  </tbody>\n",
       "</table>\n",
       "<p>9998 rows × 7 columns</p>\n",
       "</div>"
      ],
      "text/plain": [
       "         SKU   Preco                           Produto    Marca  \\\n",
       "0     HL1005  1500.0   Câmera Digital Rebel T6 - Preto    Canon   \n",
       "1     HL1006  1400.0                TV LED 32' - Preto  Samsung   \n",
       "2     HL1019  6500.0                 iPhone XS - Preto    Apple   \n",
       "3     HL1024  2400.0                  Aspire 5 - Cinza     Acer   \n",
       "4     HL1012  5500.0                Dell G7 - Vermelho     Dell   \n",
       "...      ...     ...                               ...      ...   \n",
       "9993  HL1001  2600.0           Smart TV 50' 4K - Preto       LG   \n",
       "9994  HL1015   700.0  Câmera Digital Sony Cyber - Azul     Sony   \n",
       "9995  HL1013  1550.0       Câmera Coolpix L340 - Cinza    Nikon   \n",
       "9996  HL1019  6500.0                 iPhone XS - Preto    Apple   \n",
       "9997  HL1019  6500.0                 iPhone XS - Preto    Apple   \n",
       "\n",
       "      Quantidade Vendida Data da Venda            Loja  \n",
       "0                      3    2018-01-01         Niterói  \n",
       "1                      4    2018-01-01    Porto Alegre  \n",
       "2                      5    2018-01-01        Salvador  \n",
       "3                      2    2018-01-01       Guarulhos  \n",
       "4                      1    2018-01-01  Rio de Janeiro  \n",
       "...                  ...           ...             ...  \n",
       "9993                   2    2018-12-31          Recife  \n",
       "9994                   1    2018-12-31       São Paulo  \n",
       "9995                   3    2018-12-31       Guarulhos  \n",
       "9996                   1    2018-12-31          Recife  \n",
       "9997                   1    2018-12-31       São Paulo  \n",
       "\n",
       "[9998 rows x 7 columns]"
      ]
     },
     "execution_count": 15,
     "metadata": {},
     "output_type": "execute_result"
    }
   ],
   "source": [
    "Base_Vendas.drop(['Endereco'], axis=1)"
   ]
  },
  {
   "cell_type": "markdown",
   "id": "60b7a157-7028-485a-b632-3e4e4756192e",
   "metadata": {},
   "source": [
    "### Verificando campos Nulos e campos Unicos"
   ]
  },
  {
   "cell_type": "code",
   "execution_count": 17,
   "id": "5333fd8b-a4ae-4e0a-8b4d-b17bcf47ba23",
   "metadata": {},
   "outputs": [
    {
     "data": {
      "text/plain": [
       "SKU                   0\n",
       "Preco                 0\n",
       "Produto               0\n",
       "Marca                 0\n",
       "Quantidade Vendida    0\n",
       "Data da Venda         0\n",
       "Loja                  0\n",
       "Endereco              0\n",
       "dtype: int64"
      ]
     },
     "execution_count": 17,
     "metadata": {},
     "output_type": "execute_result"
    }
   ],
   "source": [
    "Base_Vendas.isnull().sum()"
   ]
  },
  {
   "cell_type": "code",
   "execution_count": 18,
   "id": "d978d1a0-eba7-48d3-84c7-0603725352f6",
   "metadata": {},
   "outputs": [
    {
     "data": {
      "text/plain": [
       "SKU                    24\n",
       "Preco                  20\n",
       "Produto                24\n",
       "Marca                  11\n",
       "Quantidade Vendida      5\n",
       "Data da Venda         365\n",
       "Loja                   13\n",
       "Endereco               13\n",
       "dtype: int64"
      ]
     },
     "execution_count": 18,
     "metadata": {},
     "output_type": "execute_result"
    }
   ],
   "source": [
    "Base_Vendas.nunique()"
   ]
  },
  {
   "cell_type": "markdown",
   "id": "1c6208df-84ff-45cc-850b-84cc65b9681c",
   "metadata": {},
   "source": [
    "## 3 - Analises"
   ]
  },
  {
   "cell_type": "markdown",
   "id": "de64dc98-ac90-4ab3-8f86-93eef3861fdb",
   "metadata": {},
   "source": [
    "## Produtos com maior Faturamento"
   ]
  },
  {
   "cell_type": "code",
   "execution_count": 75,
   "id": "50390fd5-98cd-49f0-8172-f73326ca1cf5",
   "metadata": {},
   "outputs": [
    {
     "data": {
      "text/html": [
       "<div>\n",
       "<style scoped>\n",
       "    .dataframe tbody tr th:only-of-type {\n",
       "        vertical-align: middle;\n",
       "    }\n",
       "\n",
       "    .dataframe tbody tr th {\n",
       "        vertical-align: top;\n",
       "    }\n",
       "\n",
       "    .dataframe thead th {\n",
       "        text-align: right;\n",
       "    }\n",
       "</style>\n",
       "<table border=\"1\" class=\"dataframe\">\n",
       "  <thead>\n",
       "    <tr style=\"text-align: right;\">\n",
       "      <th></th>\n",
       "      <th>Produto</th>\n",
       "      <th>Faturamento</th>\n",
       "    </tr>\n",
       "  </thead>\n",
       "  <tbody>\n",
       "    <tr>\n",
       "      <th>13</th>\n",
       "      <td>Smart TV 50' 4K - Preto</td>\n",
       "      <td>8561800</td>\n",
       "    </tr>\n",
       "    <tr>\n",
       "      <th>23</th>\n",
       "      <td>iPhone XS - Preto</td>\n",
       "      <td>8092500</td>\n",
       "    </tr>\n",
       "    <tr>\n",
       "      <th>8</th>\n",
       "      <td>Galaxy S8 - Verde</td>\n",
       "      <td>4740000</td>\n",
       "    </tr>\n",
       "    <tr>\n",
       "      <th>5</th>\n",
       "      <td>Dell G7 - Vermelho</td>\n",
       "      <td>4647500</td>\n",
       "    </tr>\n",
       "    <tr>\n",
       "      <th>9</th>\n",
       "      <td>Inspiron 15 - Prata</td>\n",
       "      <td>4475800</td>\n",
       "    </tr>\n",
       "    <tr>\n",
       "      <th>3</th>\n",
       "      <td>Câmera Digital Rebel T6 - Preto</td>\n",
       "      <td>3939000</td>\n",
       "    </tr>\n",
       "    <tr>\n",
       "      <th>15</th>\n",
       "      <td>Smart TV LED Full HD 55' - Preto</td>\n",
       "      <td>3806000</td>\n",
       "    </tr>\n",
       "    <tr>\n",
       "      <th>7</th>\n",
       "      <td>Galaxy S10 - Cinza</td>\n",
       "      <td>3649500</td>\n",
       "    </tr>\n",
       "    <tr>\n",
       "      <th>1</th>\n",
       "      <td>Aspire 5 - Cinza</td>\n",
       "      <td>3259200</td>\n",
       "    </tr>\n",
       "    <tr>\n",
       "      <th>10</th>\n",
       "      <td>Moto G7 - Vermelho</td>\n",
       "      <td>2969400</td>\n",
       "    </tr>\n",
       "    <tr>\n",
       "      <th>22</th>\n",
       "      <td>iPhone 7 - Dourado</td>\n",
       "      <td>2617500</td>\n",
       "    </tr>\n",
       "    <tr>\n",
       "      <th>12</th>\n",
       "      <td>Samsung Dual Core - Preto</td>\n",
       "      <td>2338500</td>\n",
       "    </tr>\n",
       "    <tr>\n",
       "      <th>17</th>\n",
       "      <td>Smart Watch MI - Amarelo</td>\n",
       "      <td>2175600</td>\n",
       "    </tr>\n",
       "    <tr>\n",
       "      <th>2</th>\n",
       "      <td>Câmera Coolpix L340 - Cinza</td>\n",
       "      <td>2046000</td>\n",
       "    </tr>\n",
       "    <tr>\n",
       "      <th>4</th>\n",
       "      <td>Câmera Digital Sony Cyber - Azul</td>\n",
       "      <td>1949500</td>\n",
       "    </tr>\n",
       "    <tr>\n",
       "      <th>14</th>\n",
       "      <td>Smart TV 75' 4K - Preto</td>\n",
       "      <td>1866800</td>\n",
       "    </tr>\n",
       "    <tr>\n",
       "      <th>11</th>\n",
       "      <td>Moto Z - Vermelho</td>\n",
       "      <td>1269000</td>\n",
       "    </tr>\n",
       "    <tr>\n",
       "      <th>21</th>\n",
       "      <td>iPhone 6S - Rosa</td>\n",
       "      <td>1098200</td>\n",
       "    </tr>\n",
       "    <tr>\n",
       "      <th>18</th>\n",
       "      <td>TV LED 32' - Preto</td>\n",
       "      <td>851200</td>\n",
       "    </tr>\n",
       "    <tr>\n",
       "      <th>0</th>\n",
       "      <td>Apple Watch - Preto</td>\n",
       "      <td>579250</td>\n",
       "    </tr>\n",
       "    <tr>\n",
       "      <th>19</th>\n",
       "      <td>Tablet M10 Android - Preto</td>\n",
       "      <td>552000</td>\n",
       "    </tr>\n",
       "    <tr>\n",
       "      <th>6</th>\n",
       "      <td>Galaxy J8 - Roxo</td>\n",
       "      <td>496100</td>\n",
       "    </tr>\n",
       "    <tr>\n",
       "      <th>16</th>\n",
       "      <td>Smart Watch Galaxy - Azul</td>\n",
       "      <td>230550</td>\n",
       "    </tr>\n",
       "    <tr>\n",
       "      <th>20</th>\n",
       "      <td>iPad 32GB Wifi - Prata</td>\n",
       "      <td>106500</td>\n",
       "    </tr>\n",
       "  </tbody>\n",
       "</table>\n",
       "</div>"
      ],
      "text/plain": [
       "                             Produto  Faturamento\n",
       "13           Smart TV 50' 4K - Preto      8561800\n",
       "23                 iPhone XS - Preto      8092500\n",
       "8                  Galaxy S8 - Verde      4740000\n",
       "5                 Dell G7 - Vermelho      4647500\n",
       "9                Inspiron 15 - Prata      4475800\n",
       "3    Câmera Digital Rebel T6 - Preto      3939000\n",
       "15  Smart TV LED Full HD 55' - Preto      3806000\n",
       "7                 Galaxy S10 - Cinza      3649500\n",
       "1                   Aspire 5 - Cinza      3259200\n",
       "10                Moto G7 - Vermelho      2969400\n",
       "22                iPhone 7 - Dourado      2617500\n",
       "12         Samsung Dual Core - Preto      2338500\n",
       "17          Smart Watch MI - Amarelo      2175600\n",
       "2        Câmera Coolpix L340 - Cinza      2046000\n",
       "4   Câmera Digital Sony Cyber - Azul      1949500\n",
       "14           Smart TV 75' 4K - Preto      1866800\n",
       "11                 Moto Z - Vermelho      1269000\n",
       "21                  iPhone 6S - Rosa      1098200\n",
       "18                TV LED 32' - Preto       851200\n",
       "0                Apple Watch - Preto       579250\n",
       "19        Tablet M10 Android - Preto       552000\n",
       "6                   Galaxy J8 - Roxo       496100\n",
       "16         Smart Watch Galaxy - Azul       230550\n",
       "20            iPad 32GB Wifi - Prata       106500"
      ]
     },
     "execution_count": 75,
     "metadata": {},
     "output_type": "execute_result"
    }
   ],
   "source": [
    "Base_Vendas['Faturamento'] = Base_Vendas['Preco'] * Base_Vendas['Quantidade Vendida']\n",
    "Analise_Faturamento = Base_Vendas.groupby(by=['Produto']).sum()['Faturamento'].reset_index().sort_values(by=\"Faturamento\", ascending=False)\n",
    "Analise_Faturamento"
   ]
  },
  {
   "cell_type": "code",
   "execution_count": 154,
   "id": "c135f37b-60ab-4ef4-a0cf-985c4f1b7e42",
   "metadata": {},
   "outputs": [
    {
     "data": {
      "image/png": "[encoded data removed]",
      "text/plain": [
       "<Figure size 1080x432 with 1 Axes>"
      ]
     },
     "metadata": {
      "needs_background": "light"
     },
     "output_type": "display_data"
    }
   ],
   "source": [
    "plt.figure(figsize=(15,6))\n",
    "plt.title(\"Analise de Produtos por Faturamento\")\n",
    "plt.bar(Analise_Faturamento['Produto'], Analise_Faturamento['Faturamento'], color=\"#FEBE53\");\n",
    "plt.xticks(rotation=45, ha=\"right\");\n",
    "plt.gca().invert_xaxis()"
   ]
  },
  {
   "cell_type": "markdown",
   "id": "9eee7c3b-9889-405a-84c0-915d81d21dbd",
   "metadata": {},
   "source": [
    "## Produtos mais Vendidos"
   ]
  },
  {
   "cell_type": "code",
   "execution_count": 76,
   "id": "3cd3b346-c906-4a74-8ba8-3b44b191f384",
   "metadata": {},
   "outputs": [
    {
     "data": {
      "text/plain": [
       "Smart TV 50' 4K - Preto             1084\n",
       "Câmera Digital Sony Cyber - Azul     923\n",
       "Câmera Digital Rebel T6 - Preto      867\n",
       "Moto G7 - Vermelho                   705\n",
       "Inspiron 15 - Prata                  662\n",
       "Smart TV LED Full HD 55' - Preto     625\n",
       "Smart Watch MI - Amarelo             610\n",
       "Samsung Dual Core - Preto            541\n",
       "Galaxy S8 - Verde                    531\n",
       "Aspire 5 - Cinza                     459\n",
       "Câmera Coolpix L340 - Cinza          444\n",
       "iPhone XS - Preto                    410\n",
       "iPhone 7 - Dourado                   338\n",
       "Dell G7 - Vermelho                   288\n",
       "Moto Z - Vermelho                    275\n",
       "Galaxy S10 - Cinza                   270\n",
       "TV LED 32' - Preto                   207\n",
       "iPhone 6S - Rosa                     188\n",
       "Galaxy J8 - Roxo                     150\n",
       "Apple Watch - Preto                  112\n",
       "Smart TV 75' 4K - Preto              111\n",
       "Tablet M10 Android - Preto            95\n",
       "Smart Watch Galaxy - Azul             52\n",
       "iPad 32GB Wifi - Prata                51\n",
       "Name: Produto, dtype: int64"
      ]
     },
     "execution_count": 76,
     "metadata": {},
     "output_type": "execute_result"
    }
   ],
   "source": [
    "Analise_Produto = Base_Vendas['Produto'].value_counts()\n",
    "Analise_Produto"
   ]
  },
  {
   "cell_type": "code",
   "execution_count": 51,
   "id": "9e56e35c-7981-44d6-9f85-568dd9f79b61",
   "metadata": {},
   "outputs": [
    {
     "data": {
      "image/png": "[encoded data removed]",
      "text/plain": [
       "<Figure size 1080x432 with 1 Axes>"
      ]
     },
     "metadata": {},
     "output_type": "display_data"
    }
   ],
   "source": [
    "plt.figure(figsize=(15,6), facecolor='white')\n",
    "plt.title(\"Analise de Produtos mais Vendidos - TOP 5\")\n",
    "colors = ( \"orange\", \"cyan\", \"brown\",\n",
    "          \"grey\", \"indigo\")\n",
    "plt.pie(\n",
    "    Analise_Produto.head(5),\n",
    "    colors=colors,\n",
    "    labels= Analise_Produto.index[0:5],\n",
    "    shadow=True,\n",
    "    startangle=50,\n",
    "    autopct='%1.1f%%'\n",
    ");"
   ]
  },
  {
   "cell_type": "markdown",
   "id": "763080f1-e0f9-4433-b6c2-481caf9cb073",
   "metadata": {},
   "source": [
    "## Faturamento e QTD Vendida por Estado"
   ]
  },
  {
   "cell_type": "code",
   "execution_count": 108,
   "id": "352e63d2-92f6-4942-a6a4-7d69a4b92ba4",
   "metadata": {},
   "outputs": [
    {
     "data": {
      "text/html": [
       "<div>\n",
       "<style scoped>\n",
       "    .dataframe tbody tr th:only-of-type {\n",
       "        vertical-align: middle;\n",
       "    }\n",
       "\n",
       "    .dataframe tbody tr th {\n",
       "        vertical-align: top;\n",
       "    }\n",
       "\n",
       "    .dataframe thead th {\n",
       "        text-align: right;\n",
       "    }\n",
       "</style>\n",
       "<table border=\"1\" class=\"dataframe\">\n",
       "  <thead>\n",
       "    <tr style=\"text-align: right;\">\n",
       "      <th></th>\n",
       "      <th>Loja</th>\n",
       "      <th>Faturamento</th>\n",
       "      <th>Quantidade Vendida</th>\n",
       "    </tr>\n",
       "  </thead>\n",
       "  <tbody>\n",
       "    <tr>\n",
       "      <th>12</th>\n",
       "      <td>São Paulo</td>\n",
       "      <td>15418400</td>\n",
       "      <td>6832</td>\n",
       "    </tr>\n",
       "    <tr>\n",
       "      <th>10</th>\n",
       "      <td>Rio de Janeiro</td>\n",
       "      <td>7591600</td>\n",
       "      <td>3459</td>\n",
       "    </tr>\n",
       "    <tr>\n",
       "      <th>11</th>\n",
       "      <td>Salvador</td>\n",
       "      <td>6607300</td>\n",
       "      <td>2918</td>\n",
       "    </tr>\n",
       "    <tr>\n",
       "      <th>3</th>\n",
       "      <td>Fortaleza</td>\n",
       "      <td>6411100</td>\n",
       "      <td>2896</td>\n",
       "    </tr>\n",
       "    <tr>\n",
       "      <th>9</th>\n",
       "      <td>Recife</td>\n",
       "      <td>6293850</td>\n",
       "      <td>2925</td>\n",
       "    </tr>\n",
       "    <tr>\n",
       "      <th>0</th>\n",
       "      <td>Belo Horizonte</td>\n",
       "      <td>4492700</td>\n",
       "      <td>2037</td>\n",
       "    </tr>\n",
       "    <tr>\n",
       "      <th>2</th>\n",
       "      <td>Curitiba</td>\n",
       "      <td>4032500</td>\n",
       "      <td>1900</td>\n",
       "    </tr>\n",
       "    <tr>\n",
       "      <th>5</th>\n",
       "      <td>Guarulhos</td>\n",
       "      <td>3512250</td>\n",
       "      <td>1531</td>\n",
       "    </tr>\n",
       "    <tr>\n",
       "      <th>8</th>\n",
       "      <td>Porto Alegre</td>\n",
       "      <td>3368600</td>\n",
       "      <td>1598</td>\n",
       "    </tr>\n",
       "    <tr>\n",
       "      <th>4</th>\n",
       "      <td>Goiânia</td>\n",
       "      <td>3084550</td>\n",
       "      <td>1371</td>\n",
       "    </tr>\n",
       "    <tr>\n",
       "      <th>1</th>\n",
       "      <td>Campinas</td>\n",
       "      <td>2200600</td>\n",
       "      <td>1021</td>\n",
       "    </tr>\n",
       "    <tr>\n",
       "      <th>7</th>\n",
       "      <td>Nova Iguaçu</td>\n",
       "      <td>2053050</td>\n",
       "      <td>955</td>\n",
       "    </tr>\n",
       "    <tr>\n",
       "      <th>6</th>\n",
       "      <td>Niterói</td>\n",
       "      <td>1250900</td>\n",
       "      <td>559</td>\n",
       "    </tr>\n",
       "  </tbody>\n",
       "</table>\n",
       "</div>"
      ],
      "text/plain": [
       "              Loja  Faturamento  Quantidade Vendida\n",
       "12       São Paulo     15418400                6832\n",
       "10  Rio de Janeiro      7591600                3459\n",
       "11        Salvador      6607300                2918\n",
       "3        Fortaleza      6411100                2896\n",
       "9           Recife      6293850                2925\n",
       "0   Belo Horizonte      4492700                2037\n",
       "2         Curitiba      4032500                1900\n",
       "5        Guarulhos      3512250                1531\n",
       "8     Porto Alegre      3368600                1598\n",
       "4          Goiânia      3084550                1371\n",
       "1         Campinas      2200600                1021\n",
       "7      Nova Iguaçu      2053050                 955\n",
       "6          Niterói      1250900                 559"
      ]
     },
     "execution_count": 108,
     "metadata": {},
     "output_type": "execute_result"
    }
   ],
   "source": [
    "Analise_Estados = Base_Vendas.groupby(by=['Loja'])[['Faturamento', 'Quantidade Vendida']].sum().reset_index().sort_values(by=\"Faturamento\", ascending=False)\n",
    "Analise_Estados"
   ]
  },
  {
   "cell_type": "code",
   "execution_count": 153,
   "id": "63802cff-09d8-4266-a24f-3df3f32e79fa",
   "metadata": {},
   "outputs": [
    {
     "data": {
      "image/png": "[encoded data removed]",
      "text/plain": [
       "<Figure size 1080x432 with 1 Axes>"
      ]
     },
     "metadata": {
      "needs_background": "light"
     },
     "output_type": "display_data"
    }
   ],
   "source": [
    "plt.figure(figsize=(15,6))\n",
    "plt.title(\"QTD Vendida por Estado\")\n",
    "plt.barh(Analise_Estados['Loja'], Analise_Estados['Quantidade Vendida'], color=\"#FB4B7C\");\n",
    "plt.gca().invert_yaxis()"
   ]
  },
  {
   "cell_type": "code",
   "execution_count": 152,
   "id": "544b926c-2325-446d-b768-5a25322a863e",
   "metadata": {},
   "outputs": [
    {
     "data": {
      "image/png": "[encoded data removed]",
      "text/plain": [
       "<Figure size 1080x432 with 1 Axes>"
      ]
     },
     "metadata": {
      "needs_background": "light"
     },
     "output_type": "display_data"
    }
   ],
   "source": [
    "plt.figure(figsize=(15,6))\n",
    "plt.title(\"Faturamento por Estado\")\n",
    "plt.barh(Analise_Estados_Fat['Loja'], Analise_Estados_Fat['Faturamento'], color=\"#2E3442\");\n",
    "plt.gca().invert_yaxis()"
   ]
  },
  {
   "cell_type": "markdown",
   "id": "c4a84e93-0e9b-4e2d-8a06-3fd8ebc51f40",
   "metadata": {},
   "source": [
    "## Faturamento e QTD Vendida por Marca"
   ]
  },
  {
   "cell_type": "code",
   "execution_count": 101,
   "id": "c90c27bd-b8d3-4457-81ad-e21380f6e0c2",
   "metadata": {},
   "outputs": [
    {
     "data": {
      "text/html": [
       "<div>\n",
       "<style scoped>\n",
       "    .dataframe tbody tr th:only-of-type {\n",
       "        vertical-align: middle;\n",
       "    }\n",
       "\n",
       "    .dataframe tbody tr th {\n",
       "        vertical-align: top;\n",
       "    }\n",
       "\n",
       "    .dataframe thead th {\n",
       "        text-align: right;\n",
       "    }\n",
       "</style>\n",
       "<table border=\"1\" class=\"dataframe\">\n",
       "  <thead>\n",
       "    <tr style=\"text-align: right;\">\n",
       "      <th></th>\n",
       "      <th>Marca</th>\n",
       "      <th>Faturamento</th>\n",
       "      <th>Quantidade Vendida</th>\n",
       "    </tr>\n",
       "  </thead>\n",
       "  <tbody>\n",
       "    <tr>\n",
       "      <th>8</th>\n",
       "      <td>Samsung</td>\n",
       "      <td>14724650</td>\n",
       "      <td>5803</td>\n",
       "    </tr>\n",
       "    <tr>\n",
       "      <th>1</th>\n",
       "      <td>Apple</td>\n",
       "      <td>12493950</td>\n",
       "      <td>3343</td>\n",
       "    </tr>\n",
       "    <tr>\n",
       "      <th>3</th>\n",
       "      <td>Dell</td>\n",
       "      <td>9123300</td>\n",
       "      <td>2791</td>\n",
       "    </tr>\n",
       "    <tr>\n",
       "      <th>4</th>\n",
       "      <td>LG</td>\n",
       "      <td>8561800</td>\n",
       "      <td>3293</td>\n",
       "    </tr>\n",
       "    <tr>\n",
       "      <th>5</th>\n",
       "      <td>Motorola</td>\n",
       "      <td>4238400</td>\n",
       "      <td>2967</td>\n",
       "    </tr>\n",
       "    <tr>\n",
       "      <th>2</th>\n",
       "      <td>Canon</td>\n",
       "      <td>3939000</td>\n",
       "      <td>2626</td>\n",
       "    </tr>\n",
       "    <tr>\n",
       "      <th>7</th>\n",
       "      <td>Philco</td>\n",
       "      <td>3806000</td>\n",
       "      <td>1903</td>\n",
       "    </tr>\n",
       "    <tr>\n",
       "      <th>0</th>\n",
       "      <td>Acer</td>\n",
       "      <td>3259200</td>\n",
       "      <td>1358</td>\n",
       "    </tr>\n",
       "    <tr>\n",
       "      <th>10</th>\n",
       "      <td>Xiaomi</td>\n",
       "      <td>2175600</td>\n",
       "      <td>1813</td>\n",
       "    </tr>\n",
       "    <tr>\n",
       "      <th>6</th>\n",
       "      <td>Nikon</td>\n",
       "      <td>2046000</td>\n",
       "      <td>1320</td>\n",
       "    </tr>\n",
       "    <tr>\n",
       "      <th>9</th>\n",
       "      <td>Sony</td>\n",
       "      <td>1949500</td>\n",
       "      <td>2785</td>\n",
       "    </tr>\n",
       "  </tbody>\n",
       "</table>\n",
       "</div>"
      ],
      "text/plain": [
       "       Marca  Faturamento  Quantidade Vendida\n",
       "8    Samsung     14724650                5803\n",
       "1      Apple     12493950                3343\n",
       "3       Dell      9123300                2791\n",
       "4         LG      8561800                3293\n",
       "5   Motorola      4238400                2967\n",
       "2      Canon      3939000                2626\n",
       "7     Philco      3806000                1903\n",
       "0       Acer      3259200                1358\n",
       "10    Xiaomi      2175600                1813\n",
       "6      Nikon      2046000                1320\n",
       "9       Sony      1949500                2785"
      ]
     },
     "execution_count": 101,
     "metadata": {},
     "output_type": "execute_result"
    }
   ],
   "source": [
    "Analise_Fat_Marca = Base_Vendas.groupby(by=['Marca'])[['Faturamento', 'Quantidade Vendida']].sum().reset_index().sort_values(by=\"Faturamento\", ascending=False)\n",
    "Analise_Fat_Marca"
   ]
  },
  {
   "cell_type": "code",
   "execution_count": 122,
   "id": "8188c80a-8ed5-4371-9345-854c2fee3e4b",
   "metadata": {},
   "outputs": [
    {
     "data": {
      "image/png": "[encoded data removed]",
      "text/plain": [
       "<Figure size 1080x432 with 1 Axes>"
      ]
     },
     "metadata": {
      "needs_background": "light"
     },
     "output_type": "display_data"
    }
   ],
   "source": [
    "plt.figure(figsize=(15,6))\n",
    "plt.title(\"Faturamento total por Marca\")\n",
    "plt.plot(Analise_Fat_Marca['Marca'], Analise_Fat_Marca['Faturamento']);\n",
    "plt.gca().invert_xaxis()"
   ]
  },
  {
   "cell_type": "code",
   "execution_count": 151,
   "id": "6799bf4a-383f-4ae4-ba43-e45b01226aec",
   "metadata": {},
   "outputs": [
    {
     "data": {
      "image/png": "[encoded data removed]",
      "text/plain": [
       "<Figure size 1080x432 with 1 Axes>"
      ]
     },
     "metadata": {
      "needs_background": "light"
     },
     "output_type": "display_data"
    }
   ],
   "source": [
    "plt.figure(figsize=(15,6))\n",
    "plt.title(\"Vendas Totais por Marca\")\n",
    "plt.plot(Analise_QTV_Marca['Marca'], Analise_QTV_Marca['Quantidade Vendida'], color=\"#009E7C\");\n",
    "plt.gca().invert_xaxis()"
   ]
  },
  {
   "cell_type": "markdown",
   "id": "eb95a676-daa5-4dd8-a93b-4ae90506b136",
   "metadata": {},
   "source": [
    "## Ticket Médio"
   ]
  },
  {
   "cell_type": "code",
   "execution_count": 185,
   "id": "19a5e3df-471a-473f-b13a-4b92dcbb5410",
   "metadata": {},
   "outputs": [
    {
     "data": {
      "text/html": [
       "<div>\n",
       "<style scoped>\n",
       "    .dataframe tbody tr th:only-of-type {\n",
       "        vertical-align: middle;\n",
       "    }\n",
       "\n",
       "    .dataframe tbody tr th {\n",
       "        vertical-align: top;\n",
       "    }\n",
       "\n",
       "    .dataframe thead th {\n",
       "        text-align: right;\n",
       "    }\n",
       "</style>\n",
       "<table border=\"1\" class=\"dataframe\">\n",
       "  <thead>\n",
       "    <tr style=\"text-align: right;\">\n",
       "      <th></th>\n",
       "      <th>Loja</th>\n",
       "      <th>Ticket Medio</th>\n",
       "    </tr>\n",
       "  </thead>\n",
       "  <tbody>\n",
       "    <tr>\n",
       "      <th>5</th>\n",
       "      <td>Guarulhos</td>\n",
       "      <td>2294.09</td>\n",
       "    </tr>\n",
       "    <tr>\n",
       "      <th>11</th>\n",
       "      <td>Salvador</td>\n",
       "      <td>2264.32</td>\n",
       "    </tr>\n",
       "    <tr>\n",
       "      <th>12</th>\n",
       "      <td>São Paulo</td>\n",
       "      <td>2256.79</td>\n",
       "    </tr>\n",
       "    <tr>\n",
       "      <th>4</th>\n",
       "      <td>Goiânia</td>\n",
       "      <td>2249.85</td>\n",
       "    </tr>\n",
       "    <tr>\n",
       "      <th>6</th>\n",
       "      <td>Niterói</td>\n",
       "      <td>2237.75</td>\n",
       "    </tr>\n",
       "    <tr>\n",
       "      <th>3</th>\n",
       "      <td>Fortaleza</td>\n",
       "      <td>2213.78</td>\n",
       "    </tr>\n",
       "    <tr>\n",
       "      <th>0</th>\n",
       "      <td>Belo Horizonte</td>\n",
       "      <td>2205.55</td>\n",
       "    </tr>\n",
       "    <tr>\n",
       "      <th>10</th>\n",
       "      <td>Rio de Janeiro</td>\n",
       "      <td>2194.74</td>\n",
       "    </tr>\n",
       "    <tr>\n",
       "      <th>1</th>\n",
       "      <td>Campinas</td>\n",
       "      <td>2155.34</td>\n",
       "    </tr>\n",
       "    <tr>\n",
       "      <th>9</th>\n",
       "      <td>Recife</td>\n",
       "      <td>2151.74</td>\n",
       "    </tr>\n",
       "    <tr>\n",
       "      <th>7</th>\n",
       "      <td>Nova Iguaçu</td>\n",
       "      <td>2149.79</td>\n",
       "    </tr>\n",
       "    <tr>\n",
       "      <th>2</th>\n",
       "      <td>Curitiba</td>\n",
       "      <td>2122.37</td>\n",
       "    </tr>\n",
       "    <tr>\n",
       "      <th>8</th>\n",
       "      <td>Porto Alegre</td>\n",
       "      <td>2108.01</td>\n",
       "    </tr>\n",
       "  </tbody>\n",
       "</table>\n",
       "</div>"
      ],
      "text/plain": [
       "              Loja  Ticket Medio\n",
       "5        Guarulhos       2294.09\n",
       "11        Salvador       2264.32\n",
       "12       São Paulo       2256.79\n",
       "4          Goiânia       2249.85\n",
       "6          Niterói       2237.75\n",
       "3        Fortaleza       2213.78\n",
       "0   Belo Horizonte       2205.55\n",
       "10  Rio de Janeiro       2194.74\n",
       "1         Campinas       2155.34\n",
       "9           Recife       2151.74\n",
       "7      Nova Iguaçu       2149.79\n",
       "2         Curitiba       2122.37\n",
       "8     Porto Alegre       2108.01"
      ]
     },
     "execution_count": 185,
     "metadata": {},
     "output_type": "execute_result"
    }
   ],
   "source": [
    "Analise_Estados['Ticket Medio'] = round(Analise_Estados['Faturamento']/Analise_Estados['Quantidade Vendida'], 2)\n",
    "Ticket_Medio = Analise_Estados[['Loja', 'Ticket Medio']].sort_values(by=\"Ticket Medio\", ascending=False)\n",
    "Ticket_Medio"
   ]
  },
  {
   "cell_type": "code",
   "execution_count": 188,
   "id": "91b0cc25-0642-4c5e-87f0-814db47d5c18",
   "metadata": {},
   "outputs": [
    {
     "data": {
      "image/png": "[encoded data removed]",
      "text/plain": [
       "<Figure size 1080x432 with 1 Axes>"
      ]
     },
     "metadata": {
      "needs_background": "light"
     },
     "output_type": "display_data"
    }
   ],
   "source": [
    "plt.figure(figsize=(15,6))\n",
    "plt.title(\"Ticket Medio por Estado\")\n",
    "plt.bar(Ticket_Medio['Loja'], Ticket_Medio['Ticket Medio'], color='#05495F')\n",
    "plt.xticks(rotation=30, ha=\"right\");\n",
    "plt.gca().invert_xaxis()"
   ]
  }
 ],
 "metadata": {
  "kernelspec": {
   "display_name": "Python 3 (ipykernel)",
   "language": "python",
   "name": "python3"
  },
  "language_info": {
   "codemirror_mode": {
    "name": "ipython",
    "version": 3
   },
   "file_extension": ".py",
   "mimetype": "text/x-python",
   "name": "python",
   "nbconvert_exporter": "python",
   "pygments_lexer": "ipython3",
   "version": "3.9.7"
  }
 },
 "nbformat": 4,
 "nbformat_minor": 5
}
